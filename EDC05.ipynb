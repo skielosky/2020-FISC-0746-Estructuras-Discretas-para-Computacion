{
  "nbformat": 4,
  "nbformat_minor": 0,
  "metadata": {
    "kernelspec": {
      "display_name": "Python 3",
      "language": "python",
      "name": "python3"
    },
    "language_info": {
      "codemirror_mode": {
        "name": "ipython",
        "version": 3
      },
      "file_extension": ".py",
      "mimetype": "text/x-python",
      "name": "python",
      "nbconvert_exporter": "python",
      "pygments_lexer": "ipython3",
      "version": "3.6.5"
    },
    "colab": {
      "name": "EDC05.ipynb",
      "provenance": []
    }
  },
  "cells": [
    {
      "cell_type": "markdown",
      "metadata": {
        "id": "jSnFtBHsjpko",
        "colab_type": "text"
      },
      "source": [
        "![alt text](http://www.fisc.utp.ac.pa/sites/all/themes/custom/sub_facultad/tropical_fisc/logo.png)\n",
        "\n",
        "# Universidad Tecnológica de Panamá\n",
        "### Facultad de Ingeniería de Sistemas Computacionales\n",
        "### Departamento de Computación y Simulación de Sistemas\n",
        "### Estructuras Discretas para la Computación\n",
        "#### Prof. Ezequiel Aguilar González\n",
        "\n",
        "\n",
        "## Taller 05\n"
      ]
    },
    {
      "cell_type": "markdown",
      "metadata": {
        "id": "yHd2fCEijbwV",
        "colab_type": "text"
      },
      "source": [
        "# Funciones"
      ]
    },
    {
      "cell_type": "code",
      "metadata": {
        "id": "r7LEqhc3jbwW",
        "colab_type": "code",
        "colab": {
          "base_uri": "https://localhost:8080/",
          "height": 84
        },
        "outputId": "4c79d864-6772-4b0f-9dcf-6711f23c99a9"
      },
      "source": [
        "# Su primera funcion\n",
        "\n",
        "def printInformacion():\n",
        "    print('Name: Maria Soledad')\n",
        "    print('Edad: 21')\n",
        "    \n",
        "printInformacion()          \n",
        "printInformacion()         "
      ],
      "execution_count": 24,
      "outputs": [
        {
          "output_type": "stream",
          "text": [
            "Name: Maria Soledad\n",
            "Edad: 21\n",
            "Name: Maria Soledad\n",
            "Edad: 21\n"
          ],
          "name": "stdout"
        }
      ]
    },
    {
      "cell_type": "code",
      "metadata": {
        "id": "NZktqjtojbwZ",
        "colab_type": "code",
        "colab": {
          "base_uri": "https://localhost:8080/",
          "height": 34
        },
        "outputId": "dde9d720-2b3e-42cd-eb72-486299e685e1"
      },
      "source": [
        "# Calculos en una funcion\n",
        "\n",
        "def calc():\n",
        "    x, y = 5, 11\n",
        "    print(x + y)\n",
        "    \n",
        "calc()"
      ],
      "execution_count": 25,
      "outputs": [
        {
          "output_type": "stream",
          "text": [
            "16\n"
          ],
          "name": "stdout"
        }
      ]
    },
    {
      "cell_type": "markdown",
      "metadata": {
        "id": "KP5iQ9Wzjbwc",
        "colab_type": "text"
      },
      "source": [
        "# Parametros"
      ]
    },
    {
      "cell_type": "code",
      "metadata": {
        "id": "eki_hDERjbwd",
        "colab_type": "code",
        "colab": {
          "base_uri": "https://localhost:8080/",
          "height": 50
        },
        "outputId": "80cd034c-b213-4ee8-ccd0-e01d2dbd1931"
      },
      "source": [
        "# passing a single parameter into a function\n",
        "\n",
        "def printNombre(nombre_completo):\n",
        "    print('Tu nombre es: {}'.format(nombre_completo))\n",
        "\n",
        "printNombre('Jose Jose')\n",
        "printNombre('Carlos Gonzalez')"
      ],
      "execution_count": 26,
      "outputs": [
        {
          "output_type": "stream",
          "text": [
            "Tu nombre es: Jose Jose\n",
            "Tu nombre es: Carlos Gonzalez\n"
          ],
          "name": "stdout"
        }
      ]
    },
    {
      "cell_type": "code",
      "metadata": {
        "id": "Ob3aisgWjbwf",
        "colab_type": "code",
        "colab": {
          "base_uri": "https://localhost:8080/",
          "height": 50
        },
        "outputId": "f6d12199-9098-490a-fc18-0fac19b3e9e2"
      },
      "source": [
        "# pasar multiples parametros\n",
        "\n",
        "def addNums(num1, num2):\n",
        "    result = num1 + num2\n",
        "    print('{} + {} = {}'.format(num1, num2, result))\n",
        "    \n",
        "addNums(5, 8)   \n",
        "addNums(3.5, 5.5)    "
      ],
      "execution_count": 27,
      "outputs": [
        {
          "output_type": "stream",
          "text": [
            "5 + 8 = 13\n",
            "3.5 + 5.5 = 9.0\n"
          ],
          "name": "stdout"
        }
      ]
    },
    {
      "cell_type": "code",
      "metadata": {
        "id": "ozCWtct9jbwi",
        "colab_type": "code",
        "colab": {
          "base_uri": "https://localhost:8080/",
          "height": 134
        },
        "outputId": "88394fc0-d7c9-4357-bc61-4f2936122f78"
      },
      "source": [
        "# funcion para elevar al cuadrado los numeros\n",
        "\n",
        "numbers1 = [2, 4, 5, 10]\n",
        "numbers2 = [1, 3, 6]\n",
        "\n",
        "def squares(nums):\n",
        "    for num in nums:\n",
        "        print(num**2)\n",
        "        \n",
        "squares(numbers1)\n",
        "squares(numbers2)"
      ],
      "execution_count": 28,
      "outputs": [
        {
          "output_type": "stream",
          "text": [
            "4\n",
            "16\n",
            "25\n",
            "100\n",
            "1\n",
            "9\n",
            "36\n"
          ],
          "name": "stdout"
        }
      ]
    },
    {
      "cell_type": "code",
      "metadata": {
        "id": "n_Fh-xfFjbwk",
        "colab_type": "code",
        "colab": {
          "base_uri": "https://localhost:8080/",
          "height": 34
        },
        "outputId": "960511fa-a3a6-4ac2-b357-ee76671f3c68"
      },
      "source": [
        "# establecer parametros por defecto\n",
        "\n",
        "def calcArea(r, pi=3.14):\n",
        "    area = pi * (r**2)\n",
        "    print('Area: {}'.format(area))\n",
        "    \n",
        "calcArea(2)"
      ],
      "execution_count": 29,
      "outputs": [
        {
          "output_type": "stream",
          "text": [
            "Area: 12.56\n"
          ],
          "name": "stdout"
        }
      ]
    },
    {
      "cell_type": "code",
      "metadata": {
        "id": "1q3QMmNxjbwm",
        "colab_type": "code",
        "colab": {
          "base_uri": "https://localhost:8080/",
          "height": 50
        },
        "outputId": "11e8568c-9a88-449b-e902-e8f2a7ea5c27"
      },
      "source": [
        "# parametros por defecto\n",
        "\n",
        "def printName(first, last, middle=''):\n",
        "    if middle:\n",
        "        print('{} {} {}'.format(first, middle, last))\n",
        "    else:\n",
        "        print('{} {}'.format(first, last))\n",
        "        \n",
        "printName('Roberto', 'Martinez')\n",
        "printName('Roberto', 'Martinez', 'Carlos')"
      ],
      "execution_count": 30,
      "outputs": [
        {
          "output_type": "stream",
          "text": [
            "Roberto Martinez\n",
            "Roberto Carlos Martinez\n"
          ],
          "name": "stdout"
        }
      ]
    },
    {
      "cell_type": "code",
      "metadata": {
        "id": "JMQ6Ze12jbwp",
        "colab_type": "code",
        "colab": {
          "base_uri": "https://localhost:8080/",
          "height": 50
        },
        "outputId": "9dc95ed5-130b-4060-99a4-b5409f2e7130"
      },
      "source": [
        "# explicitamente asignar valor\n",
        "\n",
        "def addNums(num1, num2):\n",
        "    print(num2)\n",
        "    print(num1)\n",
        "    \n",
        "addNums(5, num2 = 2.5)"
      ],
      "execution_count": 31,
      "outputs": [
        {
          "output_type": "stream",
          "text": [
            "2.5\n",
            "5\n"
          ],
          "name": "stdout"
        }
      ]
    },
    {
      "cell_type": "code",
      "metadata": {
        "scrolled": true,
        "id": "1wTY4Uwojbwr",
        "colab_type": "code",
        "colab": {
          "base_uri": "https://localhost:8080/",
          "height": 84
        },
        "outputId": "84648f6b-e59b-4201-bc62-1f8fe7b5e76d"
      },
      "source": [
        "# parametros arbitrarios\n",
        "\n",
        "def outputData(name, *args):\n",
        "    print(type(args))\n",
        "    \n",
        "    for arg in args:\n",
        "        print(arg)\n",
        "        \n",
        "outputData(\"Roberto Martinez\", 5, True, \"Jess\")"
      ],
      "execution_count": 32,
      "outputs": [
        {
          "output_type": "stream",
          "text": [
            "<class 'tuple'>\n",
            "5\n",
            "True\n",
            "Jess\n"
          ],
          "name": "stdout"
        }
      ]
    },
    {
      "cell_type": "markdown",
      "metadata": {
        "id": "X_2VZ5r4jbww",
        "colab_type": "text"
      },
      "source": [
        "# Valores de Retorno"
      ]
    },
    {
      "cell_type": "code",
      "metadata": {
        "id": "mx-cOH_fjbwx",
        "colab_type": "code",
        "colab": {
          "base_uri": "https://localhost:8080/",
          "height": 50
        },
        "outputId": "abd53ad5-9276-4648-e087-b820181e0cfd"
      },
      "source": [
        "# retonar valores\n",
        "\n",
        "def addNums(num1, num2):\n",
        "    return num1 + num2\n",
        "\n",
        "num = addNums(5.5, 4.5)     \n",
        "print(num)\n",
        "\n",
        "print(addNums(10, 10)) "
      ],
      "execution_count": 33,
      "outputs": [
        {
          "output_type": "stream",
          "text": [
            "10.0\n",
            "20\n"
          ],
          "name": "stdout"
        }
      ]
    },
    {
      "cell_type": "code",
      "metadata": {
        "id": "fE5wFiDnjbw0",
        "colab_type": "code",
        "colab": {
          "base_uri": "https://localhost:8080/",
          "height": 34
        },
        "outputId": "7853db01-6f59-42be-e0c7-f77f06f08342"
      },
      "source": [
        "\n",
        "\n",
        "def searchList(aList, el):\n",
        "    return True if el in aList else False\n",
        "\n",
        "result = searchList(['one', 2, 'three'], 2) \n",
        "\n",
        "print(result)"
      ],
      "execution_count": 34,
      "outputs": [
        {
          "output_type": "stream",
          "text": [
            "True\n"
          ],
          "name": "stdout"
        }
      ]
    },
    {
      "cell_type": "markdown",
      "metadata": {
        "id": "VJSvu55ojbw9",
        "colab_type": "text"
      },
      "source": [
        "# Crear un carrito de compras"
      ]
    },
    {
      "cell_type": "code",
      "metadata": {
        "id": "Nr1W_Bmcjbw9",
        "colab_type": "code",
        "colab": {
          "base_uri": "https://localhost:8080/",
          "height": 34
        },
        "outputId": "e1386265-f139-4789-f5f8-eb6ec687636b"
      },
      "source": [
        "# importar funciones\n",
        "from IPython.display import clear_output\n",
        "\n",
        "# lista Global\n",
        "cart = []\n",
        "\n",
        "# Crear una funcion para agregar\n",
        "def addItem(item):\n",
        "    clear_output()\n",
        "    cart.append(item)\n",
        "    print('{} ha sido agregado.'.format(item))\n",
        "\n",
        "# Crear funcion para eliminar del carrito\n",
        "def removeItem(item):\n",
        "    clear_output()\n",
        "    try:\n",
        "        cart.remove(item)\n",
        "        print('{} ha sido eliminado.'.format(item))\n",
        "    except:\n",
        "        print('No hay elementos para eliminar.')\n",
        "        \n",
        "# Crear una funcion para mostrar los elementos\n",
        "def showCart():\n",
        "    clear_output()\n",
        "    if cart:\n",
        "        print('Aquí su carrito:')\n",
        "        for item in cart:\n",
        "            print('- {}'.format(item))\n",
        "    else:\n",
        "        print('Su carrito esta vacio.')\n",
        "\n",
        "# Crear funcion para limpiar los elementos del carrito\n",
        "def clearCart():\n",
        "    clear_output()\n",
        "    cart.clear()\n",
        "    print('Su carrito esta vacio.')\n",
        "\n",
        "# crear loop\n",
        "def main():\n",
        "    done = False\n",
        "    \n",
        "    while not done:\n",
        "        ans = input('salir/agregar/remover/mostrar/limpiar: ').lower()\n",
        "        \n",
        "        # base case\n",
        "        if ans == 'salir':\n",
        "            print('Gracias por usar el programa.')\n",
        "            showCart()\n",
        "            done = True\n",
        "        elif ans == 'agregar':\n",
        "            item = input('Que desea agregar? ').title()\n",
        "            addItem(item)\n",
        "        elif ans == 'remover':\n",
        "            showCart()\n",
        "            item = input('Que elemento desea remover? ').title()\n",
        "            removeItem(item)\n",
        "        elif ans == 'mostrar':\n",
        "            showCart()\n",
        "        elif ans == 'limpiar':\n",
        "            clearCart()\n",
        "        else:\n",
        "            print('Esa no es una opcion.')\n",
        "\n",
        "main()       # Ejecutar el programa"
      ],
      "execution_count": 35,
      "outputs": [
        {
          "output_type": "stream",
          "text": [
            "Su carrito esta vacio.\n"
          ],
          "name": "stdout"
        }
      ]
    },
    {
      "cell_type": "markdown",
      "metadata": {
        "id": "cYgS-5uCjbxC",
        "colab_type": "text"
      },
      "source": [
        "# Tarea"
      ]
    },
    {
      "cell_type": "markdown",
      "metadata": {
        "id": "3_YHCpcnjbxC",
        "colab_type": "text"
      },
      "source": [
        "<p>\n",
        "1. <b>Imprimir Nombre:</b> Crear una funcion mi_nombre que imprima su nombre.\n",
        "</p>"
      ]
    },
    {
      "cell_type": "code",
      "metadata": {
        "id": "ZuCK7uW0jbxD",
        "colab_type": "code",
        "colab": {
          "base_uri": "https://localhost:8080/",
          "height": 34
        },
        "outputId": "c14fc659-6b9b-4886-8f89-72957e314622"
      },
      "source": [
        "def mi_nombre():\n",
        "  #su codigo \"\"\n",
        "  return\n",
        "\n",
        "print()"
      ],
      "execution_count": 39,
      "outputs": [
        {
          "output_type": "stream",
          "text": [
            "\n"
          ],
          "name": "stdout"
        }
      ]
    },
    {
      "cell_type": "markdown",
      "metadata": {
        "id": "9c_abn4-qCUb",
        "colab_type": "text"
      },
      "source": [
        "<p>\n",
        "2. <b>Modificar Carrito de Compra:</b> Modificar el carrito de compras para que tenga una funcionalidad \"cantidad\" que muestre la cantidad de elementos que hay en el carrito\n",
        "</p>"
      ]
    }
  ]
}