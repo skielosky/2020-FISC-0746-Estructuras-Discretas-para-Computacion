{
  "nbformat": 4,
  "nbformat_minor": 0,
  "metadata": {
    "kernelspec": {
      "display_name": "Python 3",
      "language": "python",
      "name": "python3"
    },
    "language_info": {
      "codemirror_mode": {
        "name": "ipython",
        "version": 3
      },
      "file_extension": ".py",
      "mimetype": "text/x-python",
      "name": "python",
      "nbconvert_exporter": "python",
      "pygments_lexer": "ipython3",
      "version": "3.6.5"
    },
    "colab": {
      "name": "EDC07.ipynb",
      "provenance": []
    }
  },
  "cells": [
    {
      "cell_type": "markdown",
      "metadata": {
        "id": "kFlCzT7_qDr6",
        "colab_type": "text"
      },
      "source": [
        "# Creando e instanciando Clases"
      ]
    },
    {
      "cell_type": "code",
      "metadata": {
        "id": "3pPNQvt0qDr8",
        "colab_type": "code",
        "colab": {}
      },
      "source": [
        "# creando una primera clase\n",
        "\n",
        "class Auto():\n",
        "    pass    "
      ],
      "execution_count": 0,
      "outputs": []
    },
    {
      "cell_type": "code",
      "metadata": {
        "id": "JHGGE5HoqDr_",
        "colab_type": "code",
        "outputId": "57086e8d-130d-42a0-d6ce-98e0f22b2c3d",
        "colab": {
          "base_uri": "https://localhost:8080/",
          "height": 34
        }
      },
      "source": [
        "# instanciando un object de una clase\n",
        "\n",
        "class Auto():\n",
        "    pass\n",
        "\n",
        "ford = Auto()   # Creas una instancia de la clase Auto y se almacena en la variable ford\n",
        "\n",
        "print(ford)"
      ],
      "execution_count": 19,
      "outputs": [
        {
          "output_type": "stream",
          "text": [
            "<__main__.Auto object at 0x7fa32305fb38>\n"
          ],
          "name": "stdout"
        }
      ]
    },
    {
      "cell_type": "code",
      "metadata": {
        "id": "RSEV-PgBqDsD",
        "colab_type": "code",
        "outputId": "e0baa07d-0be1-4385-ea0a-a2771c6ee566",
        "colab": {
          "base_uri": "https://localhost:8080/",
          "height": 51
        }
      },
      "source": [
        "# Instancias varios object de una misma clase\n",
        "\n",
        "class Auto():\n",
        "    pass\n",
        "\n",
        "ford = Auto()\n",
        "bugatti_chiron = Auto()    # Creas otra instancia de la misma clase\n",
        "\n",
        "print(hash(ford))\n",
        "print(hash(bugatti_chiron))"
      ],
      "execution_count": 20,
      "outputs": [
        {
          "output_type": "stream",
          "text": [
            "-9223363265689480942\n",
            "8771165930658\n"
          ],
          "name": "stdout"
        }
      ]
    },
    {
      "cell_type": "markdown",
      "metadata": {
        "id": "l4lyzJ4kqDsH",
        "colab_type": "text"
      },
      "source": [
        "# Atributos"
      ]
    },
    {
      "cell_type": "code",
      "metadata": {
        "id": "-EFlr_7oqDsH",
        "colab_type": "code",
        "outputId": "5cb333af-22c2-4b3e-92cd-5d9bf0f5f1d9",
        "colab": {
          "base_uri": "https://localhost:8080/",
          "height": 34
        }
      },
      "source": [
        "# como definir atributos de clase\n",
        "\n",
        "class Auto():\n",
        "    bocina = 'beep beep'   \n",
        "    color = 'rojo'   \n",
        "\n",
        "ford = Auto()\n",
        "\n",
        "print(ford.color)   "
      ],
      "execution_count": 21,
      "outputs": [
        {
          "output_type": "stream",
          "text": [
            "rojo\n"
          ],
          "name": "stdout"
        }
      ]
    },
    {
      "cell_type": "code",
      "metadata": {
        "id": "2MrCOCIRqDsK",
        "colab_type": "code",
        "outputId": "67a2bce9-5629-476a-f3c6-a281c7878921",
        "colab": {
          "base_uri": "https://localhost:8080/",
          "height": 51
        }
      },
      "source": [
        "# Cambiando el valor de un atributo\n",
        "\n",
        "class Auto():\n",
        "    bocina = 'beep beep'   \n",
        "    color = 'rojo'  \n",
        "    \n",
        "ford = Auto()\n",
        "\n",
        "print(ford.bocina)  \n",
        "\n",
        "ford.bocina = 'Tan tan'   \n",
        "\n",
        "print(ford.bocina)   "
      ],
      "execution_count": 22,
      "outputs": [
        {
          "output_type": "stream",
          "text": [
            "beep beep\n",
            "Tan tan\n"
          ],
          "name": "stdout"
        }
      ]
    },
    {
      "cell_type": "code",
      "metadata": {
        "id": "MMZALUPCqDsN",
        "colab_type": "code",
        "outputId": "c83d0caa-3b82-4289-aee8-01d6c0e50da0",
        "colab": {
          "base_uri": "https://localhost:8080/",
          "height": 34
        }
      },
      "source": [
        "# usando el metodo init\n",
        "\n",
        "class Auto():\n",
        "    def __init__(self, color):\n",
        "        self.color = color    # establecer el atributo\n",
        "        \n",
        "ford = Auto('Blanco')   \n",
        "\n",
        "print(ford.color)"
      ],
      "execution_count": 23,
      "outputs": [
        {
          "output_type": "stream",
          "text": [
            "Blanco\n"
          ],
          "name": "stdout"
        }
      ]
    },
    {
      "cell_type": "code",
      "metadata": {
        "id": "HSFftdYJqDsP",
        "colab_type": "code",
        "outputId": "7763cbd6-66d6-4a9c-f3e8-6a706dd9697a",
        "colab": {
          "base_uri": "https://localhost:8080/",
          "height": 51
        }
      },
      "source": [
        "\n",
        "\n",
        "class Auto():\n",
        "    def __init__(self, color, anyo):\n",
        "        self.color = color    \n",
        "        self.anyo = anyo\n",
        "        \n",
        "ford = Auto('Amarillo', 2016)   \n",
        "audi = Auto('rojo', 2021) \n",
        "\n",
        "print(ford.color, ford.anyo)\n",
        "print(audi.color, audi.anyo)"
      ],
      "execution_count": 24,
      "outputs": [
        {
          "output_type": "stream",
          "text": [
            "Amarillo 2016\n",
            "rojo 2021\n"
          ],
          "name": "stdout"
        }
      ]
    },
    {
      "cell_type": "code",
      "metadata": {
        "id": "eitMw5i9qDsS",
        "colab_type": "code",
        "outputId": "7dc64b5c-1ca5-42e4-8195-077b2606e5e4",
        "colab": {
          "base_uri": "https://localhost:8080/",
          "height": 51
        }
      },
      "source": [
        "# atributos globales\n",
        "\n",
        "class Auto():\n",
        "    bocina = 'beep' \n",
        "    \n",
        "    def __init__(self, color):\n",
        "        self.color = 'Amarillo'  \n",
        "        \n",
        "print(Auto.bocina)\n",
        "\n",
        "# print(Auto.color)  \n",
        "\n",
        "ford = Auto('Gris')\n",
        "\n",
        "print(ford.bocina, ford.color) "
      ],
      "execution_count": 25,
      "outputs": [
        {
          "output_type": "stream",
          "text": [
            "beep\n",
            "beep Amarillo\n"
          ],
          "name": "stdout"
        }
      ]
    },
    {
      "cell_type": "markdown",
      "metadata": {
        "id": "0v3Y0wAeqDsV",
        "colab_type": "text"
      },
      "source": [
        "# Metodos"
      ]
    },
    {
      "cell_type": "code",
      "metadata": {
        "id": "gujs_33XqDsV",
        "colab_type": "code",
        "outputId": "d2dde406-d775-4f08-f2bd-9fded7842eb7",
        "colab": {
          "base_uri": "https://localhost:8080/",
          "height": 34
        }
      },
      "source": [
        "# Definir Metodos\n",
        "\n",
        "class Perro():\n",
        "    def hacerSonido(self):\n",
        "        print('Ladrar!')\n",
        "        \n",
        "hunter = Perro()\n",
        "\n",
        "hunter.hacerSonido()"
      ],
      "execution_count": 26,
      "outputs": [
        {
          "output_type": "stream",
          "text": [
            "Ladrar!\n"
          ],
          "name": "stdout"
        }
      ]
    },
    {
      "cell_type": "code",
      "metadata": {
        "id": "IrsxloLUqDsX",
        "colab_type": "code",
        "outputId": "62b253d9-c2d6-411d-b654-fabe78412500",
        "colab": {
          "base_uri": "https://localhost:8080/",
          "height": 34
        }
      },
      "source": [
        "# using the self keyword to access attributes within class methods\n",
        "\n",
        "class Perro():\n",
        "    sonido = 'Ladrar!'\n",
        "    \n",
        "    def hacerSonido(self):\n",
        "        print(self.sonido)   \n",
        "        \n",
        "hunter2 = Perro()\n",
        "\n",
        "hunter2.hacerSonido()"
      ],
      "execution_count": 27,
      "outputs": [
        {
          "output_type": "stream",
          "text": [
            "Ladrar!\n"
          ],
          "name": "stdout"
        }
      ]
    },
    {
      "cell_type": "code",
      "metadata": {
        "id": "oCnBZqjaqDsZ",
        "colab_type": "code",
        "outputId": "55758b18-c353-4a32-d529-49ba2cb91101",
        "colab": {
          "base_uri": "https://localhost:8080/",
          "height": 51
        }
      },
      "source": [
        "class Perro():\n",
        "    sonido = 'Ladrar!'\n",
        "    \n",
        "    def hacerSonido(self):\n",
        "        print(self.sonido)  \n",
        "        \n",
        "    def printInfo():\n",
        "        print('Soy un Perro Labrador')\n",
        "        \n",
        "Perro.printInfo()  \n",
        "\n",
        "\n",
        "hunter = Perro()\n",
        "\n",
        "hunter.hacerSonido() "
      ],
      "execution_count": 28,
      "outputs": [
        {
          "output_type": "stream",
          "text": [
            "Soy un Perro Labrador\n",
            "Ladrar!\n"
          ],
          "name": "stdout"
        }
      ]
    },
    {
      "cell_type": "markdown",
      "metadata": {
        "id": "OPA1hHGPqDs1",
        "colab_type": "text"
      },
      "source": [
        "# Tarea"
      ]
    },
    {
      "cell_type": "code",
      "metadata": {
        "id": "vZ3pWjPoqDsd",
        "colab_type": "code",
        "outputId": "00faf06c-0923-49ce-8491-8abfa3399c04",
        "colab": {
          "base_uri": "https://localhost:8080/",
          "height": 34
        }
      },
      "source": [
        "# writing methods that accept parameters\n",
        "\n",
        "class Perro():\n",
        "    def mostrarEdad(self, edad):\n",
        "        print(edad)   \n",
        "        \n",
        "hunter = Perro()\n",
        "\n",
        "hunter.mostrarEdad(6)"
      ],
      "execution_count": 29,
      "outputs": [
        {
          "output_type": "stream",
          "text": [
            "6\n"
          ],
          "name": "stdout"
        }
      ]
    },
    {
      "cell_type": "code",
      "metadata": {
        "id": "B9EpiQLAueoB",
        "colab_type": "code",
        "colab": {
          "base_uri": "https://localhost:8080/",
          "height": 51
        },
        "outputId": "1dbcaa42-c2aa-48b2-d970-63ca5be35274"
      },
      "source": [
        "class Persona():\n",
        "    def __init__(self, nombre):\n",
        "        self.nombre = nombre\n",
        "        self.edad = 0\n",
        "        \n",
        "    def establecerEdad(self, edad):\n",
        "        self.edad = edad\n",
        "        \n",
        "    def ObtenerEdad(self):\n",
        "        return self.edad\n",
        "    \n",
        "p = Persona('Katherine')\n",
        "\n",
        "numero = input('Cuantos años tienes? ')\n",
        "\n",
        "p.establecerEdad(numero)\n",
        "\n",
        "print('Tienes {} años.'.format(p.ObtenerEdad()))"
      ],
      "execution_count": 30,
      "outputs": [
        {
          "output_type": "stream",
          "text": [
            "Cuantos años tienes? 12\n",
            "Tienes 12 años.\n"
          ],
          "name": "stdout"
        }
      ]
    },
    {
      "cell_type": "markdown",
      "metadata": {
        "id": "s4sIJ1c1qDs1",
        "colab_type": "text"
      },
      "source": [
        "<p>\n",
        "1. <b>Animales:</b>Crear una clase llamada Animal y crear dos instancias de esa clase. Utilizar dos variables llamadas Leon y Tigre.\n",
        "</p>"
      ]
    },
    {
      "cell_type": "code",
      "metadata": {
        "id": "yS1Buh9BqDs2",
        "colab_type": "code",
        "colab": {}
      },
      "source": [
        ""
      ],
      "execution_count": 0,
      "outputs": []
    },
    {
      "cell_type": "code",
      "metadata": {
        "id": "5ZvcXMX6qDs4",
        "colab_type": "code",
        "colab": {}
      },
      "source": [
        ""
      ],
      "execution_count": 0,
      "outputs": []
    },
    {
      "cell_type": "markdown",
      "metadata": {
        "id": "fyXyIBZgqDs7",
        "colab_type": "text"
      },
      "source": [
        "# Tarea"
      ]
    },
    {
      "cell_type": "markdown",
      "metadata": {
        "id": "9vCQABAeqDs9",
        "colab_type": "text"
      },
      "source": [
        "<p>\n",
        "1. <b>Perro:</b>  Crear una clase Perro que tenga una variable global y dos atributos. El atributo global es especie y el valor Canino. Las dos instancias de atributos son nombre y raza. Las instancias de objetos tiene dos objetos Perros, un Pastor Aleman llamado Rayo y un Schnauzer llamada Perla.\n",
        "</p>"
      ]
    },
    {
      "cell_type": "code",
      "metadata": {
        "id": "-ouHSOcNqDs9",
        "colab_type": "code",
        "colab": {}
      },
      "source": [
        ""
      ],
      "execution_count": 0,
      "outputs": []
    },
    {
      "cell_type": "markdown",
      "metadata": {
        "id": "zGyqdk_GqDtD",
        "colab_type": "text"
      },
      "source": [
        "# Ejemplo"
      ]
    }
  ]
}