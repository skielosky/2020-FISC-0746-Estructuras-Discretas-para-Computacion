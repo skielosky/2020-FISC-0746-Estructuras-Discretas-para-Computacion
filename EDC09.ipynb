{
  "nbformat": 4,
  "nbformat_minor": 0,
  "metadata": {
    "colab": {
      "name": "EDC09.ipynb",
      "provenance": []
    },
    "kernelspec": {
      "name": "python3",
      "display_name": "Python 3"
    }
  },
  "cells": [
    {
      "cell_type": "code",
      "metadata": {
        "id": "MRH4wTwSa2kk",
        "colab_type": "code",
        "colab": {}
      },
      "source": [
        "class Nodo:\n",
        "  def __init__(self, data): \n",
        "    self.data = data \n",
        "    self.hijo_derecha = None \n",
        "    self.hijo_izquierda = None"
      ],
      "execution_count": 0,
      "outputs": []
    },
    {
      "cell_type": "code",
      "metadata": {
        "id": "1Cb50BlScUfV",
        "colab_type": "code",
        "colab": {}
      },
      "source": [
        "class Arbol:\n",
        "    def __init__(self):\n",
        "        self.nodo_raiz = None\n",
        "\n",
        "    def insertar(self, data):\n",
        "        nodo = Nodo(data)\n",
        "        if self.nodo_raiz is None:\n",
        "            self.nodo_raiz = nodo\n",
        "        else:\n",
        "            actual = self.nodo_raiz\n",
        "            pariente = None\n",
        "            while True:\n",
        "                pariente = actual\n",
        "                if nodo.data < pariente.data:\n",
        "                    actual = actual.hijo_izquierda\n",
        "                    if actual is None:\n",
        "                        pariente.hijo_izquierda = nodo\n",
        "                        return\n",
        "                else:\n",
        "                    actual = actual.hijo_derecha\n",
        "                    if actual is None:\n",
        "                        pariente.hijo_derecha = nodo\n",
        "                        return\n",
        "\n",
        "    def busqueda(self, data):\n",
        "        actual = self.nodo_raiz\n",
        "        while True:\n",
        "            if actual is None:\n",
        "                return None\n",
        "            elif actual.data is data:\n",
        "                return data\n",
        "            elif actual.data > data:\n",
        "                actual = actual.hijo_izquierda\n",
        "            else:\n",
        "                actual = actual.hijo_derecha"
      ],
      "execution_count": 0,
      "outputs": []
    },
    {
      "cell_type": "code",
      "metadata": {
        "id": "61BpPMPFdxqy",
        "colab_type": "code",
        "colab": {}
      },
      "source": [
        "n1 = Nodo(\"Nodo Raiz\")\n",
        "n2 = Nodo(\"Nodo Hijo Izquierda\")\n",
        "n3 = Nodo(\"Nodo Hijo Derecha\")\n",
        "n4 = Nodo(\"Nodo Hijo nieto\")"
      ],
      "execution_count": 0,
      "outputs": []
    },
    {
      "cell_type": "code",
      "metadata": {
        "id": "qXXhJAnZel8x",
        "colab_type": "code",
        "colab": {}
      },
      "source": [
        "n1.hijo_izquierda = n2\n",
        "n1.hijo_derecha = n3\n",
        "n2.hijo_derecha = n4"
      ],
      "execution_count": 0,
      "outputs": []
    },
    {
      "cell_type": "code",
      "metadata": {
        "id": "xrGPTdxmez1R",
        "colab_type": "code",
        "colab": {
          "base_uri": "https://localhost:8080/",
          "height": 50
        },
        "outputId": "77147639-8648-4217-b166-dd639b1e376a"
      },
      "source": [
        "actual = n1\n",
        "while actual:\n",
        "  print(actual.data) \n",
        "  actual = actual.hijo_izquierda "
      ],
      "execution_count": 11,
      "outputs": [
        {
          "output_type": "stream",
          "text": [
            "Nodo Raiz\n",
            "Nodo Hijo Izquierda\n"
          ],
          "name": "stdout"
        }
      ]
    },
    {
      "cell_type": "code",
      "metadata": {
        "id": "RHTcuG9ngRs6",
        "colab_type": "code",
        "colab": {}
      },
      "source": [
        "arbol = Arbol()\n",
        "arbol.insertar(5)\n",
        "arbol.insertar(2)\n",
        "arbol.insertar(7)\n",
        "arbol.insertar(9)\n",
        "arbol.insertar(1)"
      ],
      "execution_count": 0,
      "outputs": []
    },
    {
      "cell_type": "code",
      "metadata": {
        "id": "U-8HGurlh7X7",
        "colab_type": "code",
        "colab": {
          "base_uri": "https://localhost:8080/",
          "height": 168
        },
        "outputId": "6962f499-6e93-4b87-891d-129a3902c40b"
      },
      "source": [
        "for i in range(1, 10):\n",
        "    encontrar = arbol.busqueda(i)\n",
        "    print(\"{}: {}\".format(i, encontrar))"
      ],
      "execution_count": 20,
      "outputs": [
        {
          "output_type": "stream",
          "text": [
            "1: 1\n",
            "2: 2\n",
            "3: None\n",
            "4: None\n",
            "5: 5\n",
            "6: None\n",
            "7: 7\n",
            "8: None\n",
            "9: 9\n"
          ],
          "name": "stdout"
        }
      ]
    },
    {
      "cell_type": "markdown",
      "metadata": {
        "id": "nCjj7EKNiu2J",
        "colab_type": "text"
      },
      "source": [
        "# Practica\n",
        "## Imprimir nodo raiz del arbol"
      ]
    },
    {
      "cell_type": "code",
      "metadata": {
        "id": "WLQFmGqGi6K5",
        "colab_type": "code",
        "colab": {}
      },
      "source": [
        ""
      ],
      "execution_count": 0,
      "outputs": []
    },
    {
      "cell_type": "markdown",
      "metadata": {
        "id": "zGXFPDm2lGDb",
        "colab_type": "text"
      },
      "source": [
        "![alt text](https://raw.githubusercontent.com/skielosky/2020-FISC-0746-Estructuras-Discretas-para-Computacion/master/data/eze-minimo-maximos.png)"
      ]
    },
    {
      "cell_type": "code",
      "metadata": {
        "id": "fMW1UHKhlK6T",
        "colab_type": "code",
        "colab": {}
      },
      "source": [
        "class Arbol:\n",
        "    def __init__(self):\n",
        "        self.nodo_raiz = None\n",
        "\n",
        "    def insertar(self, data):\n",
        "        nodo = Nodo(data)\n",
        "        if self.nodo_raiz is None:\n",
        "            self.nodo_raiz = nodo\n",
        "        else:\n",
        "            actual = self.nodo_raiz\n",
        "            pariente = None\n",
        "            while True:\n",
        "                pariente = actual\n",
        "                if nodo.data < pariente.data:\n",
        "                    actual = actual.hijo_izquierda\n",
        "                    if actual is None:\n",
        "                        pariente.hijo_izquierda = nodo\n",
        "                        return\n",
        "                else:\n",
        "                    actual = actual.hijo_derecha\n",
        "                    if actual is None:\n",
        "                        pariente.hijo_derecha = nodo\n",
        "                        return\n",
        "\n",
        "    def busqueda(self, data):\n",
        "        actual = self.nodo_raiz\n",
        "        while True:\n",
        "            if actual is None:\n",
        "                return None\n",
        "            elif actual.data is data:\n",
        "                return data\n",
        "            elif actual.data > data:\n",
        "                actual = actual.hijo_izquierda\n",
        "            else:\n",
        "                actual = actual.hijo_derecha\n",
        "    def encontrar_min(self): \n",
        "            actual = self.nodo_raiz\n",
        "            while actual.hijo_izquierda: \n",
        "                actual = actual.hijo_izquierda \n",
        "\n",
        "            return actual "
      ],
      "execution_count": 0,
      "outputs": []
    },
    {
      "cell_type": "code",
      "metadata": {
        "id": "Q-ZRTDU-lsqz",
        "colab_type": "code",
        "colab": {
          "base_uri": "https://localhost:8080/",
          "height": 34
        },
        "outputId": "6bfa9a6a-184e-4f96-ede8-89a08ee9ee06"
      },
      "source": [
        "arbol = Arbol()\n",
        "arbol.insertar(5)\n",
        "arbol.insertar(2)\n",
        "arbol.insertar(7)\n",
        "arbol.insertar(9)\n",
        "arbol.insertar(1)\n",
        "\n",
        "print(arbol.encontrar_min().data)"
      ],
      "execution_count": 26,
      "outputs": [
        {
          "output_type": "stream",
          "text": [
            "1\n"
          ],
          "name": "stdout"
        }
      ]
    },
    {
      "cell_type": "markdown",
      "metadata": {
        "id": "gr-1X-QXmW3i",
        "colab_type": "text"
      },
      "source": [
        "# Tarea\n",
        "## Metodo para encontrar nodo maximo"
      ]
    },
    {
      "cell_type": "code",
      "metadata": {
        "id": "SwQjXK1gpaSG",
        "colab_type": "code",
        "colab": {}
      },
      "source": [
        "class Arbol:\n",
        "    def __init__(self):\n",
        "        self.nodo_raiz = None\n",
        "\n",
        "    def insertar(self, data):\n",
        "        nodo = Nodo(data)\n",
        "        if self.nodo_raiz is None:\n",
        "            self.nodo_raiz = nodo\n",
        "        else:\n",
        "            actual = self.nodo_raiz\n",
        "            pariente = None\n",
        "            while True:\n",
        "                pariente = actual\n",
        "                if nodo.data < pariente.data:\n",
        "                    actual = actual.hijo_izquierda\n",
        "                    if actual is None:\n",
        "                        pariente.hijo_izquierda = nodo\n",
        "                        return\n",
        "                else:\n",
        "                    actual = actual.hijo_derecha\n",
        "                    if actual is None:\n",
        "                        pariente.hijo_derecha = nodo\n",
        "                        return\n",
        "\n",
        "    def busqueda(self, data):\n",
        "        actual = self.nodo_raiz\n",
        "        while True:\n",
        "            if actual is None:\n",
        "                return None\n",
        "            elif actual.data is data:\n",
        "                return data\n",
        "            elif actual.data > data:\n",
        "                actual = actual.hijo_izquierda\n",
        "            else:\n",
        "                actual = actual.hijo_derecha\n",
        "    def encontrar_min(self): \n",
        "            actual = self.nodo_raiz\n",
        "            while actual.hijo_izquierda: \n",
        "                actual = actual.hijo_izquierda \n",
        "\n",
        "            return actual\n",
        "\n",
        "\n",
        "\n",
        "    def obtener_nodo_pariente(self, data): \n",
        "            pariente = None \n",
        "            actual = self.nodo_raiz \n",
        "            if actual is None: \n",
        "                return (pariente, None) \n",
        "            while True: \n",
        "                if actual.data == data: \n",
        "                    return (pariente, actual) \n",
        "                elif actual.data > data: \n",
        "                    pariente = actual \n",
        "                    actual = actual.hijo_izquierda \n",
        "                else: \n",
        "                    pariente = actual \n",
        "                    actual = actual.hijo_derecha \n",
        "\n",
        "            return (pariente, actual)"
      ],
      "execution_count": 0,
      "outputs": []
    },
    {
      "cell_type": "code",
      "metadata": {
        "id": "uaVfGPxTqQme",
        "colab_type": "code",
        "colab": {
          "base_uri": "https://localhost:8080/",
          "height": 34
        },
        "outputId": "4b8ef29f-2b1b-4e79-981f-fa82046dfb72"
      },
      "source": [
        "arbol = Arbol()\n",
        "arbol.insertar(5)\n",
        "arbol.insertar(2)\n",
        "arbol.insertar(7)\n",
        "arbol.insertar(9)\n",
        "arbol.insertar(1)\n",
        "\n",
        "pariente, actual = arbol.obtener_nodo_pariente(7)\n",
        "print(pariente.data)"
      ],
      "execution_count": 31,
      "outputs": [
        {
          "output_type": "stream",
          "text": [
            "5\n"
          ],
          "name": "stdout"
        }
      ]
    },
    {
      "cell_type": "markdown",
      "metadata": {
        "id": "e9dYlDHKq7GO",
        "colab_type": "text"
      },
      "source": [
        "#Tarea\n",
        "## Agregar metodo para eliminar nodo\n",
        "\n",
        "\n",
        "1.   Sin nodos parientes\n",
        "2.   Con un nodo pariente\n",
        "3. Con dos nodos parientes\n",
        "\n",
        "![alt text](https://raw.githubusercontent.com/skielosky/2020-FISC-0746-Estructuras-Discretas-para-Computacion/master/data/eze1.png)\n",
        "![alt text](https://raw.githubusercontent.com/skielosky/2020-FISC-0746-Estructuras-Discretas-para-Computacion/master/data/eze2.png)\n",
        "![alt text](https://raw.githubusercontent.com/skielosky/2020-FISC-0746-Estructuras-Discretas-para-Computacion/master/data/eze3.png)\n"
      ]
    }
  ]
}